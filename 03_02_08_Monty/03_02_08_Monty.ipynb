{
 "cells": [
  {
   "cell_type": "markdown",
   "metadata": {},
   "source": [
    "#Challenge - Beware of Monty Hall\n",
    "Unit 3 / Lesson 2 / Project 8\n",
    "\n",
    "Instructions: There are three door, one with a prize, and two without. Player one intends to gangway the prize by chosing the correct door. Player two is neutral, but knows the location of the prize door. Player one is asked to chose one door. After the choice player two reveals that one of the unchossen doors is not the prize door and offers player one the option to switch her choice to the remaining door. Determine the best strategy to win the prize."
   ]
  },
  {
   "cell_type": "markdown",
   "metadata": {},
   "source": [
    "####Solution\n",
    "Player one should always switch her choice.\n",
    "\n",
    "####Analysis\n",
    "Premisses:  \n",
    "1) Player one does not know the location of the prize, each door has an equal chance of being the prize door.  \n",
    "2) Player two knows the location of the prize.  \n",
    "3) After player one has chossen, player two will always reveal a non prize door.\n",
    "\n",
    "Rationale:  \n",
    "1) From player one's prespective each door has an equal chance of hiding the prize, 1/3.   \n",
    "2) Player one choses a door. The chosen door has 1/3 chance of hiding the prize and the two unchosen doors each have a 1/3 chance of hiding the prize.  Probability that the prize is behind chosen doors is 1/3 and proabaility that the prize is behind either of the two unchosen doors is 2/3.  \n",
    "3) Player two reveals an unchosen door without a prize, leaving one chosen door and __one__ unchosen door.\n",
    "4) The probability that the prize is behind the chosen door remains at 1/3. But now the probability that the prize is behind the remaining unchosen door is 2/3. \n",
    "\n",
    "Player one will double her chances to win the prize by switching her choice from the original (p = 1/3) to the remaining unchosen door (p = 2/3)."
   ]
  },
  {
   "cell_type": "markdown",
   "metadata": {},
   "source": [
    "####Bayesian Perspective:  \n",
    "The goal is to infer the posterior probability of making the right choice (hypothesis) after knowing that one door (of three) does not hide a prize (evidence), P(H|E).  \n",
    "\n",
    "|     |Right Guess|Wrong Guess|\n",
    "|-----|-----------|-----------|\n",
    "|Keep Door|0.33|0.00|\n",
    "|Switch Door|0.00|0.66|  \n",
    "\n",
    "The likelihood that after knowing that one door does not hide a prize (evidence) given the right choice (hypothesis) was made, P(E|H), is 0.33. The prior probability, that the prize is behind the chosen door (hypothesis), P(H), is 0.33. And the probability that any of the three doors will be the revealed door, P(E), is 0.33. \n",
    "\n",
    "The posterior probability of making the right choice P(H|E) = P(E|H)\\*P(H) / P(E) = 0.33. The switching your choice is 0.66."
   ]
  },
  {
   "cell_type": "code",
   "execution_count": null,
   "metadata": {},
   "outputs": [],
   "source": []
  }
 ],
 "metadata": {
  "kernelspec": {
   "display_name": "Python 3",
   "language": "python",
   "name": "python3"
  },
  "language_info": {
   "codemirror_mode": {
    "name": "ipython",
    "version": 3
   },
   "file_extension": ".py",
   "mimetype": "text/x-python",
   "name": "python",
   "nbconvert_exporter": "python",
   "pygments_lexer": "ipython3",
   "version": "3.6.5"
  }
 },
 "nbformat": 4,
 "nbformat_minor": 2
}
